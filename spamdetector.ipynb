{
 "cells": [
  {
   "cell_type": "markdown",
   "metadata": {},
   "source": [
    "# Spam Detection via Machine Learning\n",
    "Learning excercise as part of the Udacity Machine Learning Nanodegree. Detect spam SMS messages using the sample data set available the UCI Machine Learning Repository: https://archive.ics.uci.edu/ml/datasets/SMS+Spam+Collection.\n",
    "\n",
    "This is a following-along of this walkthrough: https://github.com/udacity/machine-learning/blob/master/projects/practice_projects/naive_bayes_tutorial/Naive_Bayes_tutorial.ipynb\n",
    "\n",
    "First we load the data set in a pandas data frame. "
   ]
  },
  {
   "cell_type": "code",
   "execution_count": 4,
   "metadata": {
    "collapsed": false
   },
   "outputs": [
    {
     "name": "stdout",
     "output_type": "stream",
     "text": [
      "Free entry in 2 a wkly comp to win FA Cup final tkts 21st May 2005. Text FA to 87121 to receive entry question(std txt rate)T&C's apply 08452810075over18's\n"
     ]
    },
    {
     "data": {
      "text/html": [
       "<div>\n",
       "<table border=\"1\" class=\"dataframe\">\n",
       "  <thead>\n",
       "    <tr style=\"text-align: right;\">\n",
       "      <th></th>\n",
       "      <th>label</th>\n",
       "      <th>sms_message</th>\n",
       "    </tr>\n",
       "  </thead>\n",
       "  <tbody>\n",
       "    <tr>\n",
       "      <th>0</th>\n",
       "      <td>ham</td>\n",
       "      <td>Go until jurong point, crazy.. Available only ...</td>\n",
       "    </tr>\n",
       "    <tr>\n",
       "      <th>1</th>\n",
       "      <td>ham</td>\n",
       "      <td>Ok lar... Joking wif u oni...</td>\n",
       "    </tr>\n",
       "    <tr>\n",
       "      <th>2</th>\n",
       "      <td>spam</td>\n",
       "      <td>Free entry in 2 a wkly comp to win FA Cup fina...</td>\n",
       "    </tr>\n",
       "    <tr>\n",
       "      <th>3</th>\n",
       "      <td>ham</td>\n",
       "      <td>U dun say so early hor... U c already then say...</td>\n",
       "    </tr>\n",
       "    <tr>\n",
       "      <th>4</th>\n",
       "      <td>ham</td>\n",
       "      <td>Nah I don't think he goes to usf, he lives aro...</td>\n",
       "    </tr>\n",
       "  </tbody>\n",
       "</table>\n",
       "</div>"
      ],
      "text/plain": [
       "  label                                        sms_message\n",
       "0   ham  Go until jurong point, crazy.. Available only ...\n",
       "1   ham                      Ok lar... Joking wif u oni...\n",
       "2  spam  Free entry in 2 a wkly comp to win FA Cup fina...\n",
       "3   ham  U dun say so early hor... U c already then say...\n",
       "4   ham  Nah I don't think he goes to usf, he lives aro..."
      ]
     },
     "execution_count": 4,
     "metadata": {},
     "output_type": "execute_result"
    }
   ],
   "source": [
    "import pandas as pd\n",
    "df = pd.read_table('spam collection\\\\SMSSpamCollection',\n",
    "                  sep = '\\t',\n",
    "                  header=None,\n",
    "                  names=['label', 'sms_message'])\n",
    "print (df['sms_message'][2])\n",
    "df.head()"
   ]
  },
  {
   "cell_type": "markdown",
   "metadata": {},
   "source": [
    "Transfer the strings in column 'label' to integers. This is recommended as machine learning algorithms like to run on numerical values.    "
   ]
  },
  {
   "cell_type": "code",
   "execution_count": 5,
   "metadata": {
    "collapsed": false
   },
   "outputs": [
    {
     "name": "stdout",
     "output_type": "stream",
     "text": [
      "(5572, 2)\n"
     ]
    },
    {
     "data": {
      "text/html": [
       "<div>\n",
       "<table border=\"1\" class=\"dataframe\">\n",
       "  <thead>\n",
       "    <tr style=\"text-align: right;\">\n",
       "      <th></th>\n",
       "      <th>label</th>\n",
       "      <th>sms_message</th>\n",
       "    </tr>\n",
       "  </thead>\n",
       "  <tbody>\n",
       "    <tr>\n",
       "      <th>0</th>\n",
       "      <td>0</td>\n",
       "      <td>Go until jurong point, crazy.. Available only ...</td>\n",
       "    </tr>\n",
       "    <tr>\n",
       "      <th>1</th>\n",
       "      <td>0</td>\n",
       "      <td>Ok lar... Joking wif u oni...</td>\n",
       "    </tr>\n",
       "    <tr>\n",
       "      <th>2</th>\n",
       "      <td>1</td>\n",
       "      <td>Free entry in 2 a wkly comp to win FA Cup fina...</td>\n",
       "    </tr>\n",
       "    <tr>\n",
       "      <th>3</th>\n",
       "      <td>0</td>\n",
       "      <td>U dun say so early hor... U c already then say...</td>\n",
       "    </tr>\n",
       "    <tr>\n",
       "      <th>4</th>\n",
       "      <td>0</td>\n",
       "      <td>Nah I don't think he goes to usf, he lives aro...</td>\n",
       "    </tr>\n",
       "  </tbody>\n",
       "</table>\n",
       "</div>"
      ],
      "text/plain": [
       "   label                                        sms_message\n",
       "0      0  Go until jurong point, crazy.. Available only ...\n",
       "1      0                      Ok lar... Joking wif u oni...\n",
       "2      1  Free entry in 2 a wkly comp to win FA Cup fina...\n",
       "3      0  U dun say so early hor... U c already then say...\n",
       "4      0  Nah I don't think he goes to usf, he lives aro..."
      ]
     },
     "execution_count": 5,
     "metadata": {},
     "output_type": "execute_result"
    }
   ],
   "source": [
    "print (df.shape)\n",
    "df['label'] = df.label.map({'ham':0, 'spam':1})\n",
    "df.head()"
   ]
  },
  {
   "cell_type": "markdown",
   "metadata": {},
   "source": [
    "Convert all text to lower case"
   ]
  },
  {
   "cell_type": "code",
   "execution_count": 6,
   "metadata": {
    "collapsed": false
   },
   "outputs": [
    {
     "name": "stdout",
     "output_type": "stream",
     "text": [
      "time: 0.00700068473815918 s\n"
     ]
    },
    {
     "data": {
      "text/html": [
       "<div>\n",
       "<table border=\"1\" class=\"dataframe\">\n",
       "  <thead>\n",
       "    <tr style=\"text-align: right;\">\n",
       "      <th></th>\n",
       "      <th>label</th>\n",
       "      <th>sms_message</th>\n",
       "    </tr>\n",
       "  </thead>\n",
       "  <tbody>\n",
       "    <tr>\n",
       "      <th>0</th>\n",
       "      <td>0</td>\n",
       "      <td>go until jurong point, crazy.. available only ...</td>\n",
       "    </tr>\n",
       "    <tr>\n",
       "      <th>1</th>\n",
       "      <td>0</td>\n",
       "      <td>ok lar... joking wif u oni...</td>\n",
       "    </tr>\n",
       "    <tr>\n",
       "      <th>2</th>\n",
       "      <td>1</td>\n",
       "      <td>free entry in 2 a wkly comp to win fa cup fina...</td>\n",
       "    </tr>\n",
       "    <tr>\n",
       "      <th>3</th>\n",
       "      <td>0</td>\n",
       "      <td>u dun say so early hor... u c already then say...</td>\n",
       "    </tr>\n",
       "    <tr>\n",
       "      <th>4</th>\n",
       "      <td>0</td>\n",
       "      <td>nah i don't think he goes to usf, he lives aro...</td>\n",
       "    </tr>\n",
       "  </tbody>\n",
       "</table>\n",
       "</div>"
      ],
      "text/plain": [
       "   label                                        sms_message\n",
       "0      0  go until jurong point, crazy.. available only ...\n",
       "1      0                      ok lar... joking wif u oni...\n",
       "2      1  free entry in 2 a wkly comp to win fa cup fina...\n",
       "3      0  u dun say so early hor... u c already then say...\n",
       "4      0  nah i don't think he goes to usf, he lives aro..."
      ]
     },
     "execution_count": 6,
     "metadata": {},
     "output_type": "execute_result"
    }
   ],
   "source": [
    "import time\n",
    "\n",
    "startTime = time.time()\n",
    "df['sms_message'] = df['sms_message'].str.lower()\n",
    "elapsedTime = time.time() - startTime\n",
    "print (\"time:\", elapsedTime, \"s\")\n",
    "df.head()"
   ]
  },
  {
   "cell_type": "markdown",
   "metadata": {},
   "source": [
    "Replace punctuations with space characters. Reduce multiple space characters to one. In the code below this is performed in one line of code. To make the code more readeble I'd like to split the long comand up into two. The question is does this impact perfomarmance? Let's do a test. First we both actions in one line.  "
   ]
  },
  {
   "cell_type": "code",
   "execution_count": 7,
   "metadata": {
    "collapsed": false
   },
   "outputs": [
    {
     "name": "stdout",
     "output_type": "stream",
     "text": [
      "go until jurong point, crazy.. available only in bugis n great world la e buffet... cine there got amore wat...\n",
      "go until jurong point crazy available only in bugis n great world la e buffet cine there got amore wat\n",
      "time: 0.07900452613830566 s\n"
     ]
    }
   ],
   "source": [
    "import string\n",
    "\n",
    "rep = str.maketrans(string.punctuation, ' '*len(string.punctuation))\n",
    "a = df\n",
    "print (a['sms_message'][0])\n",
    "\n",
    "startTime = time.time()\n",
    "a['sms_message'] = df['sms_message'].str.translate(rep).replace(' +', ' ', regex=True).str.strip()\n",
    "elapsedTime1 = time.time() - startTime\n",
    "\n",
    "print (a['sms_message'][0])\n",
    "print (\"time:\", elapsedTime1, \"s\")"
   ]
  },
  {
   "cell_type": "markdown",
   "metadata": {},
   "source": [
    "Next we separate punctuation replacement and removal of white space characters in separate lines of code."
   ]
  },
  {
   "cell_type": "code",
   "execution_count": 8,
   "metadata": {
    "collapsed": false
   },
   "outputs": [
    {
     "name": "stdout",
     "output_type": "stream",
     "text": [
      "go until jurong point crazy available only in bugis n great world la e buffet cine there got amore wat\n",
      "go until jurong point crazy available only in bugis n great world la e buffet cine there got amore wat\n",
      "time: 0.06700372695922852 s\n",
      "performance difference: 17.91 %\n"
     ]
    }
   ],
   "source": [
    "a = df\n",
    "print (a['sms_message'][0])\n",
    "\n",
    "startTime = time.time()\n",
    "# remove punctuation\n",
    "a['sms_message'] = df['sms_message'].str.translate(rep).replace(' +', ' ', regex=True)\n",
    "# remove pre and postfix white spaces\n",
    "a['sms_message'] = df['sms_message'].str.strip()\n",
    "elapsedTime2 = time.time() - startTime\n",
    "\n",
    "print (a['sms_message'][0])\n",
    "print (\"time:\", elapsedTime2, \"s\")\n",
    "d = (elapsedTime1-elapsedTime2)*100/elapsedTime2\n",
    "print (\"performance difference: %.2f %%\" %d)\n",
    "\n",
    "df = a"
   ]
  },
  {
   "cell_type": "markdown",
   "metadata": {},
   "source": [
    "Funny. Looks like it's actually a bit faster."
   ]
  },
  {
   "cell_type": "markdown",
   "metadata": {},
   "source": [
    "Add column that contains the word frequencies."
   ]
  },
  {
   "cell_type": "code",
   "execution_count": 9,
   "metadata": {
    "collapsed": false
   },
   "outputs": [
    {
     "name": "stdout",
     "output_type": "stream",
     "text": [
      "free entry in 2 a wkly comp to win fa cup final tkts 21st may 2005 text fa to 87121 to receive entry question std txt rate t c s apply 08452810075over18 s\n",
      "Counter({'to': 3, 'entry': 2, 'fa': 2, 's': 2, 'free': 1, 'in': 1, '2': 1, 'a': 1, 'wkly': 1, 'comp': 1, 'win': 1, 'cup': 1, 'final': 1, 'tkts': 1, '21st': 1, 'may': 1, '2005': 1, 'text': 1, '87121': 1, 'receive': 1, 'question': 1, 'std': 1, 'txt': 1, 'rate': 1, 't': 1, 'c': 1, 'apply': 1, '08452810075over18': 1})\n"
     ]
    },
    {
     "data": {
      "text/html": [
       "<div>\n",
       "<table border=\"1\" class=\"dataframe\">\n",
       "  <thead>\n",
       "    <tr style=\"text-align: right;\">\n",
       "      <th></th>\n",
       "      <th>label</th>\n",
       "      <th>sms_message</th>\n",
       "      <th>word_frequency</th>\n",
       "    </tr>\n",
       "  </thead>\n",
       "  <tbody>\n",
       "    <tr>\n",
       "      <th>0</th>\n",
       "      <td>0</td>\n",
       "      <td>go until jurong point crazy available only in ...</td>\n",
       "      <td>{'go': 1, 'until': 1, 'jurong': 1, 'point': 1,...</td>\n",
       "    </tr>\n",
       "    <tr>\n",
       "      <th>1</th>\n",
       "      <td>0</td>\n",
       "      <td>ok lar joking wif u oni</td>\n",
       "      <td>{'ok': 1, 'lar': 1, 'joking': 1, 'wif': 1, 'u'...</td>\n",
       "    </tr>\n",
       "    <tr>\n",
       "      <th>2</th>\n",
       "      <td>1</td>\n",
       "      <td>free entry in 2 a wkly comp to win fa cup fina...</td>\n",
       "      <td>{'free': 1, 'entry': 2, 'in': 1, '2': 1, 'a': ...</td>\n",
       "    </tr>\n",
       "    <tr>\n",
       "      <th>3</th>\n",
       "      <td>0</td>\n",
       "      <td>u dun say so early hor u c already then say</td>\n",
       "      <td>{'u': 2, 'dun': 1, 'say': 2, 'so': 1, 'early':...</td>\n",
       "    </tr>\n",
       "    <tr>\n",
       "      <th>4</th>\n",
       "      <td>0</td>\n",
       "      <td>nah i don t think he goes to usf he lives arou...</td>\n",
       "      <td>{'nah': 1, 'i': 1, 'don': 1, 't': 1, 'think': ...</td>\n",
       "    </tr>\n",
       "  </tbody>\n",
       "</table>\n",
       "</div>"
      ],
      "text/plain": [
       "   label                                        sms_message  \\\n",
       "0      0  go until jurong point crazy available only in ...   \n",
       "1      0                            ok lar joking wif u oni   \n",
       "2      1  free entry in 2 a wkly comp to win fa cup fina...   \n",
       "3      0        u dun say so early hor u c already then say   \n",
       "4      0  nah i don t think he goes to usf he lives arou...   \n",
       "\n",
       "                                      word_frequency  \n",
       "0  {'go': 1, 'until': 1, 'jurong': 1, 'point': 1,...  \n",
       "1  {'ok': 1, 'lar': 1, 'joking': 1, 'wif': 1, 'u'...  \n",
       "2  {'free': 1, 'entry': 2, 'in': 1, '2': 1, 'a': ...  \n",
       "3  {'u': 2, 'dun': 1, 'say': 2, 'so': 1, 'early':...  \n",
       "4  {'nah': 1, 'i': 1, 'don': 1, 't': 1, 'think': ...  "
      ]
     },
     "execution_count": 9,
     "metadata": {},
     "output_type": "execute_result"
    }
   ],
   "source": [
    "from collections import Counter\n",
    "\n",
    "df['word_frequency'] = df['sms_message'].str.split(' ').apply(lambda x: Counter(x))\n",
    "# a['word_frequency'] = a['sms_message'].apply(lambda x: Counter(x))\n",
    "# print (type(a))\n",
    "# print (a.shape)\n",
    "print (df['sms_message'][2])\n",
    "print (df['word_frequency'][2])\n",
    "df.head()"
   ]
  },
  {
   "cell_type": "markdown",
   "metadata": {},
   "source": [
    "Implement count frequency with scikit-learn."
   ]
  },
  {
   "cell_type": "code",
   "execution_count": 29,
   "metadata": {
    "collapsed": false
   },
   "outputs": [
    {
     "data": {
      "text/plain": [
       "(5572, 8710)"
      ]
     },
     "execution_count": 29,
     "metadata": {},
     "output_type": "execute_result"
    }
   ],
   "source": [
    "from sklearn.feature_extraction.text import CountVectorizer\n",
    "\n",
    "count_vector = CountVectorizer(stop_words = {'english'})\n",
    "count_vector.fit(df['sms_message'])\n",
    "doc_array = count_vector.transform(df['sms_message']).toarray()\n",
    "frequency_matrix = pd.DataFrame(doc_array, columns = count_vector.get_feature_names())\n",
    "frequency_matrix.shape"
   ]
  },
  {
   "cell_type": "markdown",
   "metadata": {},
   "source": [
    "Split data into training and test sets."
   ]
  },
  {
   "cell_type": "code",
   "execution_count": 34,
   "metadata": {
    "collapsed": false
   },
   "outputs": [
    {
     "name": "stdout",
     "output_type": "stream",
     "text": [
      "(4179,)\n",
      "(1393,)\n",
      "(4179,)\n",
      "(1393,)\n"
     ]
    }
   ],
   "source": [
    "from sklearn.model_selection import train_test_split\n",
    "\n",
    "X_train, X_test, y_train, y_test = train_test_split(df['sms_message'], df['label'], random_state = 1)\n",
    "print(X_train.shape)\n",
    "print(X_test.shape)\n",
    "print(y_train.shape)\n",
    "print(y_test.shape)"
   ]
  },
  {
   "cell_type": "markdown",
   "metadata": {},
   "source": [
    "Do Bag of Words processing on training dataset."
   ]
  },
  {
   "cell_type": "code",
   "execution_count": 41,
   "metadata": {
    "collapsed": false
   },
   "outputs": [],
   "source": [
    "count_vector = CountVectorizer()\n",
    "X_train_frequency_matrix = count_vector.fit_transform(X_train)\n",
    "X_test_frequency_matrix = count_vector.transform(X_test)"
   ]
  },
  {
   "cell_type": "markdown",
   "metadata": {},
   "source": [
    "Bayes Theorem implementation from scratch. Simple example to start with."
   ]
  },
  {
   "cell_type": "code",
   "execution_count": 4,
   "metadata": {
    "collapsed": false
   },
   "outputs": [
    {
     "name": "stdout",
     "output_type": "stream",
     "text": [
      "0.10799999999999998\n",
      "0.08333333333333336\n",
      "0.9166666666666666\n"
     ]
    }
   ],
   "source": [
    "P_D = 0.01     # probability of a person having diabetes\n",
    "P_negD = 1 - P_D # probability of a person NOT having diabetes\n",
    "P_Pos_D = 0.9  # probability of getting a positive test result for diabetes ...\n",
    "               # when having diabetes = Sensitivity = True Postive Rate\n",
    "P_Neg_negD = 0.9 # probability of getting a negative test result for diabetes ...\n",
    "               # when not having diabetes = Specificity = True Negative Rate\n",
    "\n",
    "P_Pos = (P_D * P_Pos_D) + (P_negD * (1 - P_Neg_negD)) # probability of getting a positive test result\n",
    "print (P_Pos)\n",
    "\n",
    "P_D_Pos = (P_D * P_Pos_D)/P_Pos # probability of having diabetes given a positive test result\n",
    "print (P_D_Pos)\n",
    "\n",
    "P_negD_Pos = (P_negD *(1 - P_Neg_negD))/P_Pos # probability of not having diabetes given a positive test result\n",
    "print (P_negD_Pos)"
   ]
  },
  {
   "cell_type": "markdown",
   "metadata": {},
   "source": [
    "Naive Bayes implementation from scratch."
   ]
  },
  {
   "cell_type": "code",
   "execution_count": 8,
   "metadata": {
    "collapsed": false
   },
   "outputs": [
    {
     "name": "stdout",
     "output_type": "stream",
     "text": [
      "0.005000000000000001\n",
      "0.06999999999999999\n",
      "0.075\n",
      "0.06666666666666668\n",
      "0.9333333333333332\n"
     ]
    }
   ],
   "source": [
    "P_J_freedom = 0.1\n",
    "P_J_immigration = 0.1\n",
    "P_J_environment = 0.8\n",
    "P_J = 0.5\n",
    "\n",
    "P_G_freedom = 0.7\n",
    "P_G_immigration = 0.2\n",
    "P_G_environment = 0.1\n",
    "P_G = 0.5\n",
    "\n",
    "P_J_text = P_J * P_J_freedom * P_J_immigration\n",
    "P_G_text = P_G * P_G_freedom * P_G_immigration\n",
    "\n",
    "print (P_J_text)\n",
    "print (P_G_text)\n",
    "\n",
    "P_freedom_immigration = P_J_text + P_G_text\n",
    "\n",
    "print (P_freedom_immigration)\n",
    "\n",
    "P_J_freedom_immigration = (P_J * P_J_freedom * P_J_immigration) / P_freedom_immigration\n",
    "P_G_freedom_immigration = (P_G * P_G_freedom * P_G_immigration) / P_freedom_immigration\n",
    "\n",
    "print (P_J_freedom_immigration)\n",
    "print (P_G_freedom_immigration)"
   ]
  },
  {
   "cell_type": "code",
   "execution_count": null,
   "metadata": {
    "collapsed": true
   },
   "outputs": [],
   "source": []
  }
 ],
 "metadata": {
  "kernelspec": {
   "display_name": "Python 3",
   "language": "python",
   "name": "python3"
  },
  "language_info": {
   "codemirror_mode": {
    "name": "ipython",
    "version": 3
   },
   "file_extension": ".py",
   "mimetype": "text/x-python",
   "name": "python",
   "nbconvert_exporter": "python",
   "pygments_lexer": "ipython3",
   "version": "3.6.0"
  }
 },
 "nbformat": 4,
 "nbformat_minor": 2
}
